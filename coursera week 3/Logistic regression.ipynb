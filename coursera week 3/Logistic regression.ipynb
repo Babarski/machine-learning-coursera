{
 "cells": [
  {
   "cell_type": "code",
   "execution_count": 4,
   "metadata": {},
   "outputs": [],
   "source": [
    "import pandas \n",
    "\n",
    "data = pandas.read_csv('data-logistic.csv', header = None)\n",
    "data_class = data[0]\n",
    "data_attr = data.loc[:, 1:]"
   ]
  },
  {
   "cell_type": "markdown",
   "metadata": {},
   "source": [
    "Убедитесь, что выше выписаны правильные формулы для градиентного спуска. Обратите внимание, что мы используем полноценный градиентный спуск, а не его стохастический вариант!"
   ]
  },
  {
   "cell_type": "code",
   "execution_count": 46,
   "metadata": {},
   "outputs": [],
   "source": [
    "import math\n",
    "\n",
    "def fw1(w1, w2, X, y, k, C):\n",
    "    l = len(y)\n",
    "    Sum = 0\n",
    "    \n",
    "    for i in xrange(0, l):\n",
    "        Sum += y[i]*X[1][i] - ( y[i]*X[1][i] / (1.0 + math.exp(-y[i]*(w1*X[1][i]+w2*X[2][i]))))\n",
    "        \n",
    "    return w1+ k*(1.0/l)*Sum - k*C*w1\n",
    "\n",
    "def fw2(w1, w2, X, y, k, C):\n",
    "    l = len(y)\n",
    "    Sum = 0\n",
    "    \n",
    "    for i in xrange(0, l):\n",
    "        Sum += y[i]*X[2][i]- (y[i]*X[2][i]/(1 + math.exp(-y[i]*(w1*X[1][i]+w2*X[2][i]))))\n",
    "        \n",
    "    return w2+ k*(1.0/l)*Sum - k*C*w2\n",
    "   "
   ]
  },
  {
   "cell_type": "markdown",
   "metadata": {},
   "source": [
    "Реализуйте градиентный спуск для обычной и L2-регуляризованной (с коэффициентом регуляризации 10) логистической регрессии. Используйте длину шага k=0.1. В качестве начального приближения используйте вектор (0, 0)."
   ]
  },
  {
   "cell_type": "code",
   "execution_count": 47,
   "metadata": {},
   "outputs": [],
   "source": [
    "def grad(y, X, C, w1, w2, k, err):\n",
    "    i = 0\n",
    "    i_max = 10000\n",
    "    w1_new, w2_new = w1, w2\n",
    "    \n",
    "    while True:\n",
    "        w1_new, w2_new = fw1(w1, w2, X, y, k, C), fw2(w1, w2, X, y, k, C)\n",
    "        e = math.sqrt((w1_new - w1)**2 + (w2_new - w2)**2)\n",
    "        \n",
    "        if i >= i_max or e <= err:\n",
    "            break\n",
    "        else:\n",
    "            w1, w2 = w1_new, w2_new\n",
    "    \n",
    "    \n",
    "    return [w1_new, w2_new]\n",
    "    "
   ]
  },
  {
   "cell_type": "markdown",
   "metadata": {},
   "source": [
    "Запустите градиентный спуск и доведите до сходимости (евклидово расстояние между векторами весов на соседних итерациях должно быть не больше 1e-5). Рекомендуется ограничить сверху число итераций десятью тысячами."
   ]
  },
  {
   "cell_type": "code",
   "execution_count": 58,
   "metadata": {},
   "outputs": [
    {
     "name": "stdout",
     "output_type": "stream",
     "text": [
      "0.287811620472\n",
      "0.0919833021593\n",
      "0.123283466995\n",
      "0.0868452834431\n"
     ]
    }
   ],
   "source": [
    "w1, w2 = grad(data_class, data_attr, C=0.0, w1=0.0, w2=0.0, k=0.1, err=1e-5)\n",
    "rw1, rw2 = grad(data_class,data_attr, C=1.0, w1=0.0, w2=0.0, k=0.1, err=1e-5)\n",
    "\n",
    "print w1 \n",
    "print w2\n",
    "print rw1 \n",
    "print rw2"
   ]
  },
  {
   "cell_type": "code",
   "execution_count": 59,
   "metadata": {},
   "outputs": [
    {
     "name": "stdout",
     "output_type": "stream",
     "text": [
      "0.927\n",
      "0.937\n"
     ]
    }
   ],
   "source": [
    "from sklearn.metrics import roc_auc_score\n",
    "\n",
    "def a(w1, w2, X):\n",
    "    return 1.0 / (1.0 + math.exp(-w1*X[1] - w2*X[2]))\n",
    "\n",
    "y_score = data_attr.apply(lambda data_attr: a(w1, w2, data_attr), axis = 1)\n",
    "y_rscore = data_attr.apply(lambda data_attr: a(rw1, rw2, data_attr), axis = 1)\n",
    "\n",
    "auc = roc_auc_score(data_class ,y_score)\n",
    "rauc = roc_auc_score(data_class, y_rscore)\n",
    "\n",
    "print round(auc, 3) \n",
    "print round(rauc, 3)"
   ]
  },
  {
   "cell_type": "code",
   "execution_count": null,
   "metadata": {},
   "outputs": [],
   "source": []
  }
 ],
 "metadata": {
  "kernelspec": {
   "display_name": "Python 2",
   "language": "python",
   "name": "python2"
  },
  "language_info": {
   "codemirror_mode": {
    "name": "ipython",
    "version": 2
   },
   "file_extension": ".py",
   "mimetype": "text/x-python",
   "name": "python",
   "nbconvert_exporter": "python",
   "pygments_lexer": "ipython2",
   "version": "2.7.14"
  }
 },
 "nbformat": 4,
 "nbformat_minor": 2
}
