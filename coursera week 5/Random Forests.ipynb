{
 "cells": [
  {
   "cell_type": "code",
   "execution_count": 2,
   "metadata": {},
   "outputs": [],
   "source": [
    "import pandas\n",
    "\n",
    "dataset = pandas.read_csv('abalone.csv')"
   ]
  },
  {
   "cell_type": "markdown",
   "metadata": {},
   "source": [
    "Преобразуйте признак Sex в числовой: значение F должно перейти в -1, I — в 0, M — в 1"
   ]
  },
  {
   "cell_type": "code",
   "execution_count": 4,
   "metadata": {
    "scrolled": true
   },
   "outputs": [],
   "source": [
    "dataset['Sex'] = dataset['Sex'].map(lambda x: 1 if x == 'M'else (-1 if x=='F' else 0))"
   ]
  },
  {
   "cell_type": "markdown",
   "metadata": {},
   "source": [
    "Разделите содержимое файлов на признаки и целевую переменную. В последнем столбце записана целевая переменная, в остальных — признаки."
   ]
  },
  {
   "cell_type": "code",
   "execution_count": 8,
   "metadata": {
    "scrolled": true
   },
   "outputs": [],
   "source": [
    "dataset_attr = dataset.loc[:,'Sex':'ShellWeight']\n",
    "dataset_res = dataset['Rings']"
   ]
  },
  {
   "cell_type": "markdown",
   "metadata": {},
   "source": [
    "Обучите случайный лес (sklearn.ensemble.RandomForestRegressor) с различным числом деревьев: от 1 до 50 (не забудьте выставить \"random_state=1\" в конструкторе). Для каждого из вариантов оцените качество работы полученного леса на кросс-валидации по 5 блокам. Используйте параметры \"random_state=1\" и \"shuffle=True\" при создании генератора кросс-валидации sklearn.cross_validation.KFold."
   ]
  },
  {
   "cell_type": "code",
   "execution_count": 17,
   "metadata": {
    "scrolled": true
   },
   "outputs": [
    {
     "name": "stdout",
     "output_type": "stream",
     "text": [
      "22 0.520158353672\n",
      "23 0.521017270937\n",
      "24 0.522403182581\n",
      "25 0.522617463968\n",
      "26 0.523806158172\n",
      "27 0.524122352219\n",
      "28 0.525053745123\n",
      "29 0.525970375635\n",
      "30 0.526537821668\n",
      "31 0.527099854431\n",
      "32 0.528389408209\n",
      "33 0.529616556123\n",
      "34 0.529563955444\n",
      "35 0.52951724744\n",
      "36 0.529599626789\n",
      "37 0.529131413447\n",
      "38 0.529160257633\n",
      "39 0.529240981027\n",
      "40 0.529067015963\n",
      "41 0.529342005691\n",
      "42 0.529573206534\n",
      "43 0.529375494665\n",
      "44 0.529119233756\n",
      "45 0.528375466028\n",
      "46 0.528520427549\n",
      "47 0.528704944579\n",
      "48 0.529612751544\n",
      "49 0.530394455443\n",
      "50 0.530596343539\n"
     ]
    }
   ],
   "source": [
    "from sklearn.ensemble import RandomForestRegressor\n",
    "from sklearn.model_selection import KFold\n",
    "from sklearn.metrics import r2_score\n",
    "from sklearn.model_selection import cross_val_score\n",
    "\n",
    "kf = KFold(n_splits=5, shuffle = True, random_state = 1)\n",
    "result = []\n",
    "for i in xrange(1,51):\n",
    "    scr = cross_val_score(RandomForestRegressor(n_estimators = i, random_state = 1),\n",
    "                   dataset_attr,\n",
    "                   dataset_res,\n",
    "                   cv=kf)\n",
    "    if scr.mean()>= 0.52:\n",
    "        print i, scr.mean()"
   ]
  },
  {
   "cell_type": "code",
   "execution_count": null,
   "metadata": {},
   "outputs": [],
   "source": []
  }
 ],
 "metadata": {
  "kernelspec": {
   "display_name": "Python 2",
   "language": "python",
   "name": "python2"
  },
  "language_info": {
   "codemirror_mode": {
    "name": "ipython",
    "version": 2
   },
   "file_extension": ".py",
   "mimetype": "text/x-python",
   "name": "python",
   "nbconvert_exporter": "python",
   "pygments_lexer": "ipython2",
   "version": "2.7.14"
  }
 },
 "nbformat": 4,
 "nbformat_minor": 2
}
