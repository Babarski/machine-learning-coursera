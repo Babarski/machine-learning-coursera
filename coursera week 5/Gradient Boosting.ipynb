{
 "cells": [
  {
   "cell_type": "code",
   "execution_count": 1,
   "metadata": {},
   "outputs": [],
   "source": [
    "import pandas\n",
    "\n",
    "data = pandas.read_csv('gbm-data.csv')\n",
    "data = data.values"
   ]
  },
  {
   "cell_type": "markdown",
   "metadata": {},
   "source": [
    "Загрузите выборку из файла gbm-data.csv с помощью pandas и преобразуйте ее в массив numpy (параметр values у датафрейма). В первой колонке файла с данными записано, была или нет реакция. Все остальные колонки (d1 - d1776) содержат различные характеристики молекулы, такие как размер, форма и т.д. Разбейте выборку на обучающую и тестовую."
   ]
  },
  {
   "cell_type": "code",
   "execution_count": 2,
   "metadata": {},
   "outputs": [
    {
     "name": "stderr",
     "output_type": "stream",
     "text": [
      "c:\\python27\\lib\\site-packages\\sklearn\\cross_validation.py:41: DeprecationWarning: This module was deprecated in version 0.18 in favor of the model_selection module into which all the refactored classes and functions are moved. Also note that the interface of the new CV iterators are different from that of this module. This module will be removed in 0.20.\n",
      "  \"This module will be removed in 0.20.\", DeprecationWarning)\n"
     ]
    }
   ],
   "source": [
    "from sklearn.cross_validation import train_test_split\n",
    "\n",
    "react_res = []\n",
    "react_char =[]\n",
    "\n",
    "for i in data:\n",
    "    react_res.append(i[0])\n",
    "    react_char.append(i[1:])\n",
    "    \n",
    "react_char_train, react_char_test, react_res_train, react_res_test = train_test_split(react_char,\n",
    "                                                                                     react_res,\n",
    "                                                                                     test_size = 0.8,\n",
    "                                                                                     random_state = 241)\n"
   ]
  },
  {
   "cell_type": "markdown",
   "metadata": {},
   "source": [
    "Обучите GradientBoostingClassifier с параметрами n_estimators=250, verbose=True, random_state=241 и для каждого значения learning_rate из списка [1, 0.5, 0.3, 0.2, 0.1] проделайте следующее\n",
    "    Используйте метод staged_decision_function для предсказания качества на обучающей и тестовой выборке на каждой итерации.\n",
    "    \n",
    "    Преобразуйте полученное предсказание с помощью сигмоидной функции по формуле 1 / (1 + e^{−y_pred}), где y_pred — предсказанное значение.\n",
    "    \n",
    "    Вычислите и постройте график значений log-loss (которую можно посчитать с помощью функции sklearn.metrics.log_loss) на обучающей и тестовой выборках, а также найдите минимальное значение метрики и номер итерации, на которой оно достигается."
   ]
  },
  {
   "cell_type": "code",
   "execution_count": 42,
   "metadata": {
    "scrolled": false
   },
   "outputs": [
    {
     "name": "stdout",
     "output_type": "stream",
     "text": [
      "      Iter       Train Loss   Remaining Time \n",
      "         1           1.2613           13.45s\n",
      "         2           1.1715           12.90s\n",
      "         3           1.1009           12.76s\n",
      "         4           1.0529           13.04s\n",
      "         5           1.0130           13.13s\n",
      "         6           0.9740           12.97s\n",
      "         7           0.9475           12.50s\n",
      "         8           0.9197           12.49s\n",
      "         9           0.8979           12.18s\n",
      "        10           0.8730           12.17s\n",
      "        20           0.7207           10.05s\n",
      "        30           0.6055            9.23s\n",
      "        40           0.5244            8.64s\n",
      "        50           0.4501            8.24s\n",
      "        60           0.3908            7.84s\n",
      "        70           0.3372            7.53s\n",
      "        80           0.3009            7.13s\n",
      "        90           0.2603            6.71s\n",
      "       100           0.2327            6.23s\n",
      "       200           0.0835            2.14s\n",
      "0.53\n",
      "36\n"
     ]
    },
    {
     "data": {
      "image/png": "[encoded data removed]",
      "text/plain": [
       "<matplotlib.figure.Figure at 0xe140160>"
      ]
     },
     "metadata": {},
     "output_type": "display_data"
    }
   ],
   "source": [
    "from sklearn.ensemble import GradientBoostingClassifier\n",
    "from sklearn.metrics import log_loss\n",
    "import numpy as np \n",
    "import math\n",
    "import matplotlib.pyplot as plt\n",
    "%matplotlib inline\n",
    "\n",
    "def sigm_func(y_pred):\n",
    "    res =  1.0 / (1.0 + np.exp(-1*y_pred))\n",
    "    return res\n",
    "\n",
    "l_rate = [1, 0.5, 0.3, 0.2, 0.1] \n",
    "\n",
    "for i in l_rate:\n",
    "    log_loss_train =[]\n",
    "    log_loss_test = []\n",
    "    gbc = GradientBoostingClassifier(n_estimators=250, \n",
    "                                     verbose=True,\n",
    "                                     random_state=241,\n",
    "                                     learning_rate = i)\n",
    "    gbc.fit(react_char_train, react_res_train)\n",
    "\n",
    "    iter_train = gbc.staged_decision_function(react_char_train)\n",
    "    iter_test = gbc.staged_decision_function(react_char_test)\n",
    "\n",
    "    for i in iter_train:\n",
    "        for j in i:\n",
    "            j[0] = sigm_func(j[0])\n",
    "        \n",
    "        log_loss_train.append(log_loss(react_res_train, i))\n",
    "            \n",
    "    for i in iter_test:\n",
    "        for j in i:\n",
    "            j[0] = sigm_func(j[0])\n",
    "            \n",
    "        log_loss_test.append(log_loss(react_res_test, i))\n",
    "        \n",
    "    plt.figure()\n",
    "    plt.plot(log_loss_test, 'r', linewidth=2)\n",
    "    plt.plot(log_loss_train, 'g', linewidth=2)\n",
    "    plt.legend(['test', 'train'])\n",
    "    \n",
    "    print round(min(log_loss_test), 2)\n",
    "    print log_loss_test.index(min(log_loss_test))"
   ]
  },
  {
   "cell_type": "markdown",
   "metadata": {},
   "source": [
    "На этих же данных обучите RandomForestClassifier с количеством деревьев, равным количеству итераций, на котором достигается наилучшее качество у градиентного бустинга из предыдущего пункта. Какое значение log-loss на тесте получается у этого случайного леса?"
   ]
  },
  {
   "cell_type": "code",
   "execution_count": 45,
   "metadata": {},
   "outputs": [
    {
     "name": "stdout",
     "output_type": "stream",
     "text": [
      "0.53\n"
     ]
    }
   ],
   "source": [
    "from sklearn.ensemble import GradientBoostingClassifier\n",
    "\n",
    "clf = GradientBoostingClassifier(n_estimators = 36, random_state=241)\n",
    "clf.fit(react_char_train, react_res_train)\n",
    "\n",
    "res = clf.predict_proba(react_char_test)\n",
    "\n",
    "print round(log_loss(react_res_test, res), 2)"
   ]
  },
  {
   "cell_type": "code",
   "execution_count": null,
   "metadata": {},
   "outputs": [],
   "source": []
  }
 ],
 "metadata": {
  "kernelspec": {
   "display_name": "Python 2",
   "language": "python",
   "name": "python2"
  },
  "language_info": {
   "codemirror_mode": {
    "name": "ipython",
    "version": 2
   },
   "file_extension": ".py",
   "mimetype": "text/x-python",
   "name": "python",
   "nbconvert_exporter": "python",
   "pygments_lexer": "ipython2",
   "version": "2.7.14"
  }
 },
 "nbformat": 4,
 "nbformat_minor": 2
}
